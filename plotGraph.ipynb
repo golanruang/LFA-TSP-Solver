{
 "cells": [
  {
   "cell_type": "code",
   "execution_count": 1,
   "source": [
    "import json\n",
    "\n",
    "# Read capital names and coordinates from json file\n",
    "try:\n",
    "  capitals_json = json.load(open('capitals.json'))\n",
    "except:\n",
    "  import urllib.request\n",
    "  url = 'https://raw.githubusercontent.com/Gurobi/modeling-examples/master/traveling_salesman/capitals.json'\n",
    "  data = urllib.request.urlopen(url).read()\n",
    "  capitals_json = json.loads(data)\n",
    "\n",
    "capitals = []\n",
    "coordinates = {}\n",
    "index = 0\n",
    "minLat = 10000\n",
    "minLong = 10000\n",
    "numCoordinates = 50\n",
    "\n",
    "for state in capitals_json:\n",
    "  if len(coordinates) < numCoordinates:\n",
    "    if state not in ['AK', 'HI']:\n",
    "      capital = capitals_json[state]['capital']\n",
    "      capitals.append(capital)\n",
    "      if float(capitals_json[state]['lat']) < minLat:\n",
    "        minLat = float(capitals_json[state]['lat'])\n",
    "      if float(capitals_json[state]['long']) < minLong: \n",
    "        minLong = float(capitals_json[state]['long'])\n",
    "      coordinates[str(index)] = (\n",
    "          float(capitals_json[state]['lat']), float(capitals_json[state]['long']))\n",
    "      index+=1\n",
    "\n",
    "print(coordinates)\n",
    "print(minLat)\n",
    "print(minLong)"
   ],
   "outputs": [
    {
     "output_type": "stream",
     "name": "stdout",
     "text": [
      "{'0': (32.361538, -86.279118), '1': (33.448457, -112.073844), '2': (34.736009, -92.331122), '3': (38.555605, -121.468926), '4': (39.7391667, -104.984167), '5': (41.767, -72.677), '6': (39.161921, -75.526755), '7': (30.4518, -84.27277), '8': (33.76, -84.39), '9': (43.613739, -116.237651), '10': (39.78325, -89.650373), '11': (39.790942, -86.147685), '12': (41.590939, -93.620866), '13': (39.04, -95.69), '14': (38.197274, -84.86311), '15': (30.45809, -91.140229), '16': (44.323535, -69.765261), '17': (38.972945, -76.501157), '18': (42.2352, -71.0275), '19': (42.7335, -84.5467), '20': (44.95, -93.094), '21': (32.32, -90.207), '22': (38.572954, -92.189283), '23': (46.595805, -112.027031), '24': (40.809868, -96.675345), '25': (39.160949, -119.753877), '26': (43.220093, -71.549127), '27': (40.221741, -74.756138), '28': (35.667231, -105.964575), '29': (42.659829, -73.781339), '30': (35.771, -78.638), '31': (46.813343, -100.779004), '32': (39.962245, -83.000647), '33': (35.482309, -97.534994), '34': (44.931109, -123.029159), '35': (40.269789, -76.875613), '36': (41.82355, -71.422132), '37': (34.0, -81.035), '38': (44.367966, -100.336378), '39': (36.165, -86.784), '40': (30.266667, -97.75), '41': (40.7547, -111.892622), '42': (44.26639, -72.57194), '43': (37.54, -77.46), '44': (47.042418, -122.893077), '45': (38.349497, -81.633294), '46': (43.074722, -89.384444), '47': (41.145548, -104.802042)}\n",
      "30.266667\n",
      "-123.029159\n"
     ]
    }
   ],
   "metadata": {}
  },
  {
   "cell_type": "code",
   "execution_count": 3,
   "source": [
    "from solveTSP import solveTSP, sampleTour\n",
    "N = 2\n",
    "numCities = len(coordinates)\n",
    "# print(numCities)\n",
    "stepsize = 0.05\n",
    "dimensions = (minLat, minLong)\n",
    "print(\"solving TSP...\")\n",
    "t = solveTSP(N, numCities, stepsize, dimensions)\n",
    "print(\"theta: %s\" % t.getTheta())\n",
    "history = [\"0\"]\n",
    "tour = sampleTour(history, coordinates, t)\n",
    "print(tour)\n",
    "print(t.loss(tour, coordinates))\n"
   ],
   "outputs": [
    {
     "output_type": "stream",
     "name": "stdout",
     "text": [
      "calculating gradient...\n",
      "k: 0\n"
     ]
    }
   ],
   "metadata": {}
  },
  {
   "cell_type": "code",
   "execution_count": null,
   "source": [
    "import folium\n",
    "\n",
    "map = folium.Map(location=[40, -95], zoom_start=4)\n",
    "\n",
    "points = []\n",
    "for city in tour:\n",
    "  points.append(coordinates[city])\n",
    "points.append(points[0])\n",
    "\n",
    "folium.PolyLine(points).add_to(map)\n",
    "\n",
    "map\n"
   ],
   "outputs": [],
   "metadata": {}
  }
 ],
 "metadata": {
  "orig_nbformat": 4,
  "language_info": {
   "name": "python",
   "version": "3.8.5",
   "mimetype": "text/x-python",
   "codemirror_mode": {
    "name": "ipython",
    "version": 3
   },
   "pygments_lexer": "ipython3",
   "nbconvert_exporter": "python",
   "file_extension": ".py"
  },
  "kernelspec": {
   "name": "python3",
   "display_name": "Python 3.8.5 64-bit ('base': conda)"
  },
  "interpreter": {
   "hash": "dca0ade3e726a953b501b15e8e990130d2b7799f14cfd9f4271676035ebe5511"
  }
 },
 "nbformat": 4,
 "nbformat_minor": 2
}