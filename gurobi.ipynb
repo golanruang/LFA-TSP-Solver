{
 "cells": [
  {
   "cell_type": "code",
   "execution_count": null,
   "source": [
    "import json\n",
    "\n",
    "# Read capital names and coordinates from json file\n",
    "try:\n",
    "  capitals_json = json.load(open('capitals.json'))\n",
    "except:\n",
    "  import urllib.request\n",
    "  url = 'https://raw.githubusercontent.com/Gurobi/modeling-examples/master/traveling_salesman/capitals.json'\n",
    "  data = urllib.request.urlopen(url).read()\n",
    "  capitals_json = json.loads(data)\n",
    "\n",
    "capitals = []\n",
    "coordinates = {}\n",
    "for state in capitals_json:\n",
    "    if state not in ['AK', 'HI']:\n",
    "      capital = capitals_json[state]['capital']\n",
    "      capitals.append(capital)\n",
    "      coordinates[capital] = (\n",
    "          float(capitals_json[state]['lat']), float(capitals_json[state]['long']))\n"
   ],
   "outputs": [],
   "metadata": {}
  },
  {
   "cell_type": "code",
   "execution_count": null,
   "source": [
    "import math\n",
    "from itertools import combinations\n",
    "\n",
    "# Compute pairwise distance matrix\n",
    "\n",
    "\n",
    "def distance(city1, city2):\n",
    "    c1 = coordinates[city1]\n",
    "    c2 = coordinates[city2]\n",
    "    diff = (c1[0]-c2[0], c1[1]-c2[1])\n",
    "    return math.sqrt(diff[0]*diff[0]+diff[1]*diff[1])\n",
    "\n",
    "\n",
    "dist = {(c1, c2): distance(c1, c2) for c1, c2 in combinations(capitals, 2)}\n"
   ],
   "outputs": [],
   "metadata": {}
  },
  {
   "cell_type": "code",
   "execution_count": null,
   "source": [
    "import gurobipy as gp\n",
    "from gurobipy import GRB\n",
    "\n",
    "# tested with Python 3.7 & Gurobi 9.0.0\n",
    "\n",
    "m = gp.Model()\n",
    "\n",
    "# Variables: is city 'i' adjacent to city 'j' on the tour?\n",
    "vars = m.addVars(dist.keys(), obj=dist, vtype=GRB.BINARY, name='x')\n",
    "\n",
    "# Symmetric direction: Copy the object\n",
    "for i, j in vars.keys():\n",
    "    vars[j, i] = vars[i, j]  # edge in opposite direction\n",
    "\n",
    "# Constraints: two edges incident to each city\n",
    "cons = m.addConstrs(vars.sum(c, '*') == 2 for c in capitals)\n"
   ],
   "outputs": [],
   "metadata": {}
  },
  {
   "cell_type": "code",
   "execution_count": null,
   "source": [
    "# Callback - use lazy constraints to eliminate sub-tours\n",
    "\n",
    "def subtourelim(model, where):\n",
    "    if where == GRB.Callback.MIPSOL:\n",
    "        # make a list of edges selected in the solution\n",
    "        vals = model.cbGetSolution(model._vars)\n",
    "        selected = gp.tuplelist((i, j) for i, j in model._vars.keys()\n",
    "                                if vals[i, j] > 0.5)\n",
    "        # find the shortest cycle in the selected edge list\n",
    "        tour = subtour(selected)\n",
    "        if len(tour) < len(capitals):\n",
    "            # add subtour elimination constr. for every pair of cities in subtour\n",
    "            model.cbLazy(gp.quicksum(model._vars[i, j] for i, j in combinations(tour, 2))\n",
    "                         <= len(tour)-1)\n",
    "\n",
    "# Given a tuplelist of edges, find the shortest subtour\n",
    "\n",
    "\n",
    "def subtour(edges):\n",
    "    unvisited = capitals[:]\n",
    "    cycle = capitals[:]  # Dummy - guaranteed to be replaced\n",
    "    while unvisited:  # true if list is non-empty\n",
    "        thiscycle = []\n",
    "        neighbors = unvisited\n",
    "        while neighbors:\n",
    "            current = neighbors[0]\n",
    "            thiscycle.append(current)\n",
    "            unvisited.remove(current)\n",
    "            neighbors = [j for i, j in edges.select(current, '*')\n",
    "                         if j in unvisited]\n",
    "        if len(thiscycle) <= len(cycle):\n",
    "            cycle = thiscycle  # New shortest subtour\n",
    "    return cycle\n"
   ],
   "outputs": [],
   "metadata": {}
  },
  {
   "cell_type": "code",
   "execution_count": null,
   "source": [
    "m._vars = vars\n",
    "m.Params.lazyConstraints = 1\n",
    "m.optimize(subtourelim)\n"
   ],
   "outputs": [],
   "metadata": {}
  },
  {
   "cell_type": "code",
   "execution_count": null,
   "source": [
    "# Retrieve solution\n",
    "\n",
    "vals = m.getAttr('x', vars)\n",
    "selected = gp.tuplelist((i, j) for i, j in vals.keys() if vals[i, j] > 0.5)\n",
    "\n",
    "tour = subtour(selected)\n",
    "assert len(tour) == len(capitals)\n"
   ],
   "outputs": [],
   "metadata": {}
  },
  {
   "cell_type": "code",
   "execution_count": null,
   "source": [
    "# Map the solution\n",
    "\n",
    "import folium\n",
    "\n",
    "map = folium.Map(location=[40,-95], zoom_start = 4)\n",
    "\n",
    "points = []\n",
    "for city in tour:\n",
    "  points.append(coordinates[city])\n",
    "points.append(points[0])\n",
    "\n",
    "folium.PolyLine(points).add_to(map)\n",
    "\n",
    "map"
   ],
   "outputs": [],
   "metadata": {}
  }
 ],
 "metadata": {
  "orig_nbformat": 4,
  "language_info": {
   "name": "python"
  }
 },
 "nbformat": 4,
 "nbformat_minor": 2
}